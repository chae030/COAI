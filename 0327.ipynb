{
 "cells": [
  {
   "cell_type": "code",
   "execution_count": 33,
   "metadata": {},
   "outputs": [
    {
     "name": "stdout",
     "output_type": "stream",
     "text": [
      "['1', 5.1, 3.5, 1.4, 0.2, 'Iris-setosa']\n",
      "['2', 4.9, 3.0, 1.4, 0.2, 'Iris-setosa']\n",
      "['3', 4.7, 3.2, 1.3, 0.2, 'Iris-setosa']\n",
      "['4', 4.6, 3.1, 1.5, 0.2, 'Iris-setosa']\n",
      "['5', 5.0, 3.6, 1.4, 0.2, 'Iris-setosa']\n",
      "['6', 5.4, 3.9, 1.7, 0.4, 'Iris-setosa']\n",
      "['7', 4.6, 3.4, 1.4, 0.3, 'Iris-setosa']\n",
      "['8', 5.0, 3.4, 1.5, 0.2, 'Iris-setosa']\n",
      "['9', 4.4, 2.9, 1.4, 0.2, 'Iris-setosa']\n",
      "['10', 4.9, 3.1, 1.5, 0.1, 'Iris-setosa']\n",
      "['11', 5.4, 3.7, 1.5, 0.2, 'Iris-setosa']\n",
      "['12', 4.8, 3.4, 1.6, 0.2, 'Iris-setosa']\n",
      "['13', 4.8, 3.0, 1.4, 0.1, 'Iris-setosa']\n",
      "['14', 4.3, 3.0, 1.1, 0.1, 'Iris-setosa']\n",
      "['15', 5.8, 4.0, 1.2, 0.2, 'Iris-setosa']\n",
      "['16', 5.7, 4.4, 1.5, 0.4, 'Iris-setosa']\n",
      "['17', 5.4, 3.9, 1.3, 0.4, 'Iris-setosa']\n",
      "['18', 5.1, 3.5, 1.4, 0.3, 'Iris-setosa']\n",
      "['19', 5.7, 3.8, 1.7, 0.3, 'Iris-setosa']\n",
      "['20', 5.1, 3.8, 1.5, 0.3, 'Iris-setosa']\n",
      "['21', 5.4, 3.4, 1.7, 0.2, 'Iris-setosa']\n",
      "['22', 5.1, 3.7, 1.5, 0.4, 'Iris-setosa']\n",
      "['23', 4.6, 3.6, 1.0, 0.2, 'Iris-setosa']\n",
      "['24', 5.1, 3.3, 1.7, 0.5, 'Iris-setosa']\n",
      "['25', 4.8, 3.4, 1.9, 0.2, 'Iris-setosa']\n",
      "['26', 5.0, 3.0, 1.6, 0.2, 'Iris-setosa']\n",
      "['27', 5.0, 3.4, 1.6, 0.4, 'Iris-setosa']\n",
      "['28', 5.2, 3.5, 1.5, 0.2, 'Iris-setosa']\n",
      "['29', 5.2, 3.4, 1.4, 0.2, 'Iris-setosa']\n",
      "['30', 4.7, 3.2, 1.6, 0.2, 'Iris-setosa']\n",
      "['31', 4.8, 3.1, 1.6, 0.2, 'Iris-setosa']\n",
      "['32', 5.4, 3.4, 1.5, 0.4, 'Iris-setosa']\n",
      "['33', 5.2, 4.1, 1.5, 0.1, 'Iris-setosa']\n",
      "['34', 5.5, 4.2, 1.4, 0.2, 'Iris-setosa']\n",
      "['35', 4.9, 3.1, 1.5, 0.1, 'Iris-setosa']\n",
      "['36', 5.0, 3.2, 1.2, 0.2, 'Iris-setosa']\n",
      "['37', 5.5, 3.5, 1.3, 0.2, 'Iris-setosa']\n",
      "['38', 4.9, 3.1, 1.5, 0.1, 'Iris-setosa']\n",
      "['39', 4.4, 3.0, 1.3, 0.2, 'Iris-setosa']\n",
      "['40', 5.1, 3.4, 1.5, 0.2, 'Iris-setosa']\n",
      "['41', 5.0, 3.5, 1.3, 0.3, 'Iris-setosa']\n",
      "['42', 4.5, 2.3, 1.3, 0.3, 'Iris-setosa']\n",
      "['43', 4.4, 3.2, 1.3, 0.2, 'Iris-setosa']\n",
      "['44', 5.0, 3.5, 1.6, 0.6, 'Iris-setosa']\n",
      "['45', 5.1, 3.8, 1.9, 0.4, 'Iris-setosa']\n",
      "['46', 4.8, 3.0, 1.4, 0.3, 'Iris-setosa']\n",
      "['47', 5.1, 3.8, 1.6, 0.2, 'Iris-setosa']\n",
      "['48', 4.6, 3.2, 1.4, 0.2, 'Iris-setosa']\n",
      "['49', 5.3, 3.7, 1.5, 0.2, 'Iris-setosa']\n",
      "['50', 5.0, 3.3, 1.4, 0.2, 'Iris-setosa']\n",
      "['51', 7.0, 3.2, 4.7, 1.4, 'Iris-versicolor']\n",
      "['52', 6.4, 3.2, 4.5, 1.5, 'Iris-versicolor']\n",
      "['53', 6.9, 3.1, 4.9, 1.5, 'Iris-versicolor']\n",
      "['54', 5.5, 2.3, 4.0, 1.3, 'Iris-versicolor']\n",
      "['55', 6.5, 2.8, 4.6, 1.5, 'Iris-versicolor']\n",
      "['56', 5.7, 2.8, 4.5, 1.3, 'Iris-versicolor']\n",
      "['57', 6.3, 3.3, 4.7, 1.6, 'Iris-versicolor']\n",
      "['58', 4.9, 2.4, 3.3, 1.0, 'Iris-versicolor']\n",
      "['59', 6.6, 2.9, 4.6, 1.3, 'Iris-versicolor']\n",
      "['60', 5.2, 2.7, 3.9, 1.4, 'Iris-versicolor']\n",
      "['61', 5.0, 2.0, 3.5, 1.0, 'Iris-versicolor']\n",
      "['62', 5.9, 3.0, 4.2, 1.5, 'Iris-versicolor']\n",
      "['63', 6.0, 2.2, 4.0, 1.0, 'Iris-versicolor']\n",
      "['64', 6.1, 2.9, 4.7, 1.4, 'Iris-versicolor']\n",
      "['65', 5.6, 2.9, 3.6, 1.3, 'Iris-versicolor']\n",
      "['66', 6.7, 3.1, 4.4, 1.4, 'Iris-versicolor']\n",
      "['67', 5.6, 3.0, 4.5, 1.5, 'Iris-versicolor']\n",
      "['68', 5.8, 2.7, 4.1, 1.0, 'Iris-versicolor']\n",
      "['69', 6.2, 2.2, 4.5, 1.5, 'Iris-versicolor']\n",
      "['70', 5.6, 2.5, 3.9, 1.1, 'Iris-versicolor']\n",
      "['71', 5.9, 3.2, 4.8, 1.8, 'Iris-versicolor']\n",
      "['72', 6.1, 2.8, 4.0, 1.3, 'Iris-versicolor']\n",
      "['73', 6.3, 2.5, 4.9, 1.5, 'Iris-versicolor']\n",
      "['74', 6.1, 2.8, 4.7, 1.2, 'Iris-versicolor']\n",
      "['75', 6.4, 2.9, 4.3, 1.3, 'Iris-versicolor']\n",
      "['76', 6.6, 3.0, 4.4, 1.4, 'Iris-versicolor']\n",
      "['77', 6.8, 2.8, 4.8, 1.4, 'Iris-versicolor']\n",
      "['78', 6.7, 3.0, 5.0, 1.7, 'Iris-versicolor']\n",
      "['79', 6.0, 2.9, 4.5, 1.5, 'Iris-versicolor']\n",
      "['80', 5.7, 2.6, 3.5, 1.0, 'Iris-versicolor']\n",
      "['81', 5.5, 2.4, 3.8, 1.1, 'Iris-versicolor']\n",
      "['82', 5.5, 2.4, 3.7, 1.0, 'Iris-versicolor']\n",
      "['83', 5.8, 2.7, 3.9, 1.2, 'Iris-versicolor']\n",
      "['84', 6.0, 2.7, 5.1, 1.6, 'Iris-versicolor']\n",
      "['85', 5.4, 3.0, 4.5, 1.5, 'Iris-versicolor']\n",
      "['86', 6.0, 3.4, 4.5, 1.6, 'Iris-versicolor']\n",
      "['87', 6.7, 3.1, 4.7, 1.5, 'Iris-versicolor']\n",
      "['88', 6.3, 2.3, 4.4, 1.3, 'Iris-versicolor']\n",
      "['89', 5.6, 3.0, 4.1, 1.3, 'Iris-versicolor']\n",
      "['90', 5.5, 2.5, 4.0, 1.3, 'Iris-versicolor']\n",
      "['91', 5.5, 2.6, 4.4, 1.2, 'Iris-versicolor']\n",
      "['92', 6.1, 3.0, 4.6, 1.4, 'Iris-versicolor']\n",
      "['93', 5.8, 2.6, 4.0, 1.2, 'Iris-versicolor']\n",
      "['94', 5.0, 2.3, 3.3, 1.0, 'Iris-versicolor']\n",
      "['95', 5.6, 2.7, 4.2, 1.3, 'Iris-versicolor']\n",
      "['96', 5.7, 3.0, 4.2, 1.2, 'Iris-versicolor']\n",
      "['97', 5.7, 2.9, 4.2, 1.3, 'Iris-versicolor']\n",
      "['98', 6.2, 2.9, 4.3, 1.3, 'Iris-versicolor']\n",
      "['99', 5.1, 2.5, 3.0, 1.1, 'Iris-versicolor']\n",
      "['100', 5.7, 2.8, 4.1, 1.3, 'Iris-versicolor']\n",
      "['101', 6.3, 3.3, 6.0, 2.5, 'Iris-virginica']\n",
      "['102', 5.8, 2.7, 5.1, 1.9, 'Iris-virginica']\n",
      "['103', 7.1, 3.0, 5.9, 2.1, 'Iris-virginica']\n",
      "['104', 6.3, 2.9, 5.6, 1.8, 'Iris-virginica']\n",
      "['105', 6.5, 3.0, 5.8, 2.2, 'Iris-virginica']\n",
      "['106', 7.6, 3.0, 6.6, 2.1, 'Iris-virginica']\n",
      "['107', 4.9, 2.5, 4.5, 1.7, 'Iris-virginica']\n",
      "['108', 7.3, 2.9, 6.3, 1.8, 'Iris-virginica']\n",
      "['109', 6.7, 2.5, 5.8, 1.8, 'Iris-virginica']\n",
      "['110', 7.2, 3.6, 6.1, 2.5, 'Iris-virginica']\n",
      "['111', 6.5, 3.2, 5.1, 2.0, 'Iris-virginica']\n",
      "['112', 6.4, 2.7, 5.3, 1.9, 'Iris-virginica']\n",
      "['113', 6.8, 3.0, 5.5, 2.1, 'Iris-virginica']\n",
      "['114', 5.7, 2.5, 5.0, 2.0, 'Iris-virginica']\n",
      "['115', 5.8, 2.8, 5.1, 2.4, 'Iris-virginica']\n",
      "['116', 6.4, 3.2, 5.3, 2.3, 'Iris-virginica']\n",
      "['117', 6.5, 3.0, 5.5, 1.8, 'Iris-virginica']\n",
      "['118', 7.7, 3.8, 6.7, 2.2, 'Iris-virginica']\n",
      "['119', 7.7, 2.6, 6.9, 2.3, 'Iris-virginica']\n",
      "['120', 6.0, 2.2, 5.0, 1.5, 'Iris-virginica']\n",
      "['121', 6.9, 3.2, 5.7, 2.3, 'Iris-virginica']\n",
      "['122', 5.6, 2.8, 4.9, 2.0, 'Iris-virginica']\n",
      "['123', 7.7, 2.8, 6.7, 2.0, 'Iris-virginica']\n",
      "['124', 6.3, 2.7, 4.9, 1.8, 'Iris-virginica']\n",
      "['125', 6.7, 3.3, 5.7, 2.1, 'Iris-virginica']\n",
      "['126', 7.2, 3.2, 6.0, 1.8, 'Iris-virginica']\n",
      "['127', 6.2, 2.8, 4.8, 1.8, 'Iris-virginica']\n",
      "['128', 6.1, 3.0, 4.9, 1.8, 'Iris-virginica']\n",
      "['129', 6.4, 2.8, 5.6, 2.1, 'Iris-virginica']\n",
      "['130', 7.2, 3.0, 5.8, 1.6, 'Iris-virginica']\n",
      "['131', 7.4, 2.8, 6.1, 1.9, 'Iris-virginica']\n",
      "['132', 7.9, 3.8, 6.4, 2.0, 'Iris-virginica']\n",
      "['133', 6.4, 2.8, 5.6, 2.2, 'Iris-virginica']\n",
      "['134', 6.3, 2.8, 5.1, 1.5, 'Iris-virginica']\n",
      "['135', 6.1, 2.6, 5.6, 1.4, 'Iris-virginica']\n",
      "['136', 7.7, 3.0, 6.1, 2.3, 'Iris-virginica']\n",
      "['137', 6.3, 3.4, 5.6, 2.4, 'Iris-virginica']\n",
      "['138', 6.4, 3.1, 5.5, 1.8, 'Iris-virginica']\n",
      "['139', 6.0, 3.0, 4.8, 1.8, 'Iris-virginica']\n",
      "['140', 6.9, 3.1, 5.4, 2.1, 'Iris-virginica']\n",
      "['141', 6.7, 3.1, 5.6, 2.4, 'Iris-virginica']\n",
      "['142', 6.9, 3.1, 5.1, 2.3, 'Iris-virginica']\n",
      "['143', 5.8, 2.7, 5.1, 1.9, 'Iris-virginica']\n",
      "['144', 6.8, 3.2, 5.9, 2.3, 'Iris-virginica']\n",
      "['145', 6.7, 3.3, 5.7, 2.5, 'Iris-virginica']\n",
      "['146', 6.7, 3.0, 5.2, 2.3, 'Iris-virginica']\n",
      "['147', 6.3, 2.5, 5.0, 1.9, 'Iris-virginica']\n",
      "['148', 6.5, 3.0, 5.2, 2.0, 'Iris-virginica']\n",
      "['149', 6.2, 3.4, 5.4, 2.3, 'Iris-virginica']\n",
      "['150', 5.9, 3.0, 5.1, 1.8, 'Iris-virginica']\n"
     ]
    }
   ],
   "source": [
    "import csv\n",
    "\n",
    "f = open('Iris.csv')\n",
    "data = csv.reader(f)\n",
    "header = next(data)\n",
    "result = []\n",
    "\n",
    "for row in data :\n",
    "    result.append(row)\n",
    "\n",
    "for i in result :\n",
    "    for j in range(1, 5) :\n",
    "        i[j] = float(i[j])\n",
    "    print(i)"
   ]
  },
  {
   "cell_type": "code",
   "execution_count": 34,
   "metadata": {},
   "outputs": [],
   "source": [
    "a = []\n",
    "b = []\n",
    "c = []\n",
    "\n",
    "for i in result :\n",
    "    if i[5] == 'Iris-setosa' :\n",
    "        a.append(i[0:5])\n",
    "    if i[5] == 'Iris-versicolor' :\n",
    "        b.append(i[0:5])\n",
    "    if i[5] == 'Iris-virginica' :\n",
    "        c.append(i[0:5])"
   ]
  },
  {
   "cell_type": "code",
   "execution_count": 35,
   "metadata": {},
   "outputs": [
    {
     "name": "stdout",
     "output_type": "stream",
     "text": [
      "<iris-setosa 의 특성별 평균>\n",
      "꽃받침 길이 평균 :  5.006 \n",
      "꽃받침 너비 평균 :  3.418 \n",
      "꽃잎 길이 평균 1.464 \n",
      "꽃잎 너비 평균 0.244\n"
     ]
    }
   ],
   "source": [
    "SL = []\n",
    "SW = []\n",
    "PL = []\n",
    "PW = []\n",
    "\n",
    "for i in a :\n",
    "    SL.append(i[1])\n",
    "    SW.append(i[2])\n",
    "    PL.append(i[3])\n",
    "    PW.append(i[4])\n",
    "    \n",
    "print('<iris-setosa 의 특성별 평균>')\n",
    "print('꽃받침 길이 평균 : ', round(sum(SL)/len(SL), 3), '\\n꽃받침 너비 평균 : ', round(sum(SW)/len(SW), 3),\n",
    "    '\\n꽃잎 길이 평균', round(sum(PL)/len(PL), 3), '\\n꽃잎 너비 평균', round(sum(PW)/len(PW), 3))"
   ]
  },
  {
   "cell_type": "code",
   "execution_count": 36,
   "metadata": {},
   "outputs": [
    {
     "name": "stdout",
     "output_type": "stream",
     "text": [
      "<iris-setosa 의 특성별 중앙값>\n",
      "꽃받침 길이 중앙값 :  5.0 \n",
      "꽃받침 너비 중앙값 :  3.4 \n",
      "꽃잎 길이 중앙값 1.5 \n",
      "꽃잎 너비 중앙값 0.2\n"
     ]
    }
   ],
   "source": [
    "SL.sort()\n",
    "SW.sort()\n",
    "PL.sort()\n",
    "PW.sort()\n",
    "m = int(len(a)/2)\n",
    "\n",
    "print('<iris-setosa 의 특성별 중앙값>')\n",
    "print('꽃받침 길이 중앙값 : ', SL[m], '\\n꽃받침 너비 중앙값 : ', SW[m], '\\n꽃잎 길이 중앙값', PL[m], '\\n꽃잎 너비 중앙값', PW[m])"
   ]
  },
  {
   "cell_type": "markdown",
   "metadata": {},
   "source": [
    "# 판다스 활용해보기!\n",
    "그냥 심심해서 나혼자 함"
   ]
  },
  {
   "cell_type": "code",
   "execution_count": 31,
   "metadata": {},
   "outputs": [
    {
     "name": "stdout",
     "output_type": "stream",
     "text": [
      "<iris-setosa 의 특성별 평균>\n",
      "\n",
      "꽃받침 길이 평균 :  5.006 \n",
      "꽃받침 너비 평균 :  3.418 \n",
      "꽃잎 길이 평균 1.464 \n",
      "꽃잎 너비 평균 0.244 \n",
      "\n",
      "\n",
      "<iris-versicolor 의 특성별 평균>\n",
      "\n",
      "꽃받침 길이 평균 :  5.936 \n",
      "꽃받침 너비 평균 :  2.77 \n",
      "꽃잎 길이 평균 4.26 \n",
      "꽃잎 너비 평균 1.326 \n",
      "\n",
      "\n",
      "<iris-virginica 의 특성별 평균>\n",
      "\n",
      "꽃받침 길이 평균 :  6.588 \n",
      "꽃받침 너비 평균 :  2.974 \n",
      "꽃잎 길이 평균 5.552 \n",
      "꽃잎 너비 평균 2.026\n"
     ]
    }
   ],
   "source": [
    "import pandas as pd\n",
    "\n",
    "iris_data = pd.read_csv('Iris.csv', header = 0, index_col = 0)\n",
    "\n",
    "# Species 별로 분류 -> 열별로 분류 -> sum\n",
    "setosa = iris_data[iris_data['Species'] == 'Iris-setosa']\n",
    "versicolor = iris_data[iris_data['Species'] == 'Iris-versicolor']\n",
    "virginica = iris_data[iris_data['Species'] == 'Iris-virginica']\n",
    "\n",
    "setosa_SL = list(setosa.iloc[:, 0])\n",
    "setosa_SW = list(setosa.iloc[:, 1])\n",
    "setosa_PL = list(setosa.iloc[:, 2])\n",
    "setosa_PW = list(setosa.iloc[:, 3])\n",
    "print('<iris-setosa 의 특성별 평균>\\n')\n",
    "print('꽃받침 길이 평균 : ', round(sum(setosa_SL)/len(setosa_SL), 3), '\\n꽃받침 너비 평균 : ', round(sum(setosa_SW)/len(setosa_SW), 3),\n",
    "    '\\n꽃잎 길이 평균', round(sum(setosa_PL)/len(setosa_PL), 3), '\\n꽃잎 너비 평균', round(sum(setosa_PW)/len(setosa_PW), 3), '\\n\\n')\n",
    "\n",
    "versicolor_SL = list(versicolor.iloc[:, 0])\n",
    "versicolor_SW = list(versicolor.iloc[:, 1])\n",
    "versicolor_PL = list(versicolor.iloc[:, 2])\n",
    "versicolor_PW = list(versicolor.iloc[:, 3])\n",
    "print('<iris-versicolor 의 특성별 평균>\\n')\n",
    "print('꽃받침 길이 평균 : ', round(sum(versicolor_SL)/len(versicolor_SL), 3), '\\n꽃받침 너비 평균 : ', round(sum(versicolor_SW)/len(versicolor_SW), 3),\n",
    "    '\\n꽃잎 길이 평균', round(sum(versicolor_PL)/len(versicolor_PL), 3), '\\n꽃잎 너비 평균', round(sum(versicolor_PW)/len(versicolor_PW), 3), '\\n\\n')\n",
    "\n",
    "virginica_SL = list(virginica.iloc[:, 0])\n",
    "virginica_SW = list(virginica.iloc[:, 1])\n",
    "virginica_PL = list(virginica.iloc[:, 2])\n",
    "virginica_PW = list(virginica.iloc[:, 3])\n",
    "print('<iris-virginica 의 특성별 평균>\\n')\n",
    "print('꽃받침 길이 평균 : ', round(sum(virginica_SL)/len(virginica_SL), 3), '\\n꽃받침 너비 평균 : ', round(sum(virginica_SW)/len(virginica_SW), 3),\n",
    "    '\\n꽃잎 길이 평균', round(sum(virginica_PL)/len(virginica_PL), 3), '\\n꽃잎 너비 평균', round(sum(virginica_PW)/len(virginica_PW), 3))"
   ]
  },
  {
   "cell_type": "code",
   "execution_count": 39,
   "metadata": {},
   "outputs": [
    {
     "name": "stdout",
     "output_type": "stream",
     "text": [
      "   Id  SepalLengthCm  SepalWidthCm  PetalLengthCm  PetalWidthCm      Species\n",
      "0   1            5.1           3.5            1.4           0.2  Iris-setosa\n",
      "1   2            4.9           3.0            1.4           0.2  Iris-setosa \n",
      "\n",
      "<class 'pandas.core.frame.DataFrame'>\n",
      "RangeIndex: 150 entries, 0 to 149\n",
      "Data columns (total 6 columns):\n",
      " #   Column         Non-Null Count  Dtype  \n",
      "---  ------         --------------  -----  \n",
      " 0   Id             150 non-null    int64  \n",
      " 1   SepalLengthCm  150 non-null    float64\n",
      " 2   SepalWidthCm   150 non-null    float64\n",
      " 3   PetalLengthCm  150 non-null    float64\n",
      " 4   PetalWidthCm   150 non-null    float64\n",
      " 5   Species        150 non-null    object \n",
      "dtypes: float64(4), int64(1), object(1)\n",
      "memory usage: 7.2+ KB\n",
      "None \n",
      "\n",
      "               Id  SepalLengthCm  SepalWidthCm  PetalLengthCm  PetalWidthCm\n",
      "count  150.000000     150.000000    150.000000     150.000000    150.000000\n",
      "mean    75.500000       5.843333      3.054000       3.758667      1.198667\n",
      "std     43.445368       0.828066      0.433594       1.764420      0.763161\n",
      "min      1.000000       4.300000      2.000000       1.000000      0.100000\n",
      "25%     38.250000       5.100000      2.800000       1.600000      0.300000\n",
      "50%     75.500000       5.800000      3.000000       4.350000      1.300000\n",
      "75%    112.750000       6.400000      3.300000       5.100000      1.800000\n",
      "max    150.000000       7.900000      4.400000       6.900000      2.500000\n"
     ]
    }
   ],
   "source": [
    "iris = pd.read_csv('Iris.csv')\n",
    "\n",
    "print(iris.head(2), '\\n')\n",
    "print(iris.info(), '\\n')\n",
    "print(iris.describe())"
   ]
  },
  {
   "cell_type": "code",
   "execution_count": 42,
   "metadata": {},
   "outputs": [
    {
     "data": {
      "image/png": "[encoded data removed]",
      "text/plain": [
       "<Figure size 1000x600 with 1 Axes>"
      ]
     },
     "metadata": {},
     "output_type": "display_data"
    }
   ],
   "source": [
    "import matplotlib.pyplot as plt\n",
    "\n",
    "fig = iris[iris.Species == 'Iris-setosa'].plot(kind = 'scatter', x = 'SepalLengthCm', y ='SepalWidthCm', color = 'orange', label = 'setosa')\n",
    "iris[iris.Species == 'Iris-versicolor'].plot(kind = 'scatter', x = 'SepalLengthCm', y ='SepalWidthCm', color = 'blue', label = 'versicolir', ax = fig)\n",
    "iris[iris.Species == 'Iris-virginica'].plot(kind = 'scatter', x = 'SepalLengthCm', y ='SepalWidthCm', color = 'green', label = 'virginica', ax = fig)\n",
    "fig.set_xlabel('Sepal Length')\n",
    "fig.set_ylabel('Sepal Width')\n",
    "fig.set_title('Sepal Length VS Width')\n",
    "fig = plt.gcf()\n",
    "fig.set_size_inches(10, 6)\n",
    "plt.show()"
   ]
  },
  {
   "cell_type": "code",
   "execution_count": 44,
   "metadata": {},
   "outputs": [
    {
     "data": {
      "image/png": "[encoded data removed]",
      "text/plain": [
       "<Figure size 1000x600 with 1 Axes>"
      ]
     },
     "metadata": {},
     "output_type": "display_data"
    }
   ],
   "source": [
    "fig = iris[iris.Species == 'Iris-setosa'].plot(kind = 'scatter', x = 'PetalLengthCm', y ='PetalWidthCm', color = 'orange', label = 'setosa')\n",
    "iris[iris.Species == 'Iris-versicolor'].plot(kind = 'scatter', x = 'PetalLengthCm', y ='PetalWidthCm', color = 'blue', label = 'versicolor', ax = fig)\n",
    "iris[iris.Species == 'Iris-virginica'].plot(kind = 'scatter', x = 'PetalLengthCm', y ='PetalWidthCm', color = 'green', label = 'virginica', ax = fig)\n",
    "fig.set_xlabel('Petal Length')\n",
    "fig.set_ylabel('Petal Width')\n",
    "fig.set_title('Petal Length VS Width')\n",
    "fig = plt.gcf()\n",
    "fig.set_size_inches(10, 6)\n",
    "plt.show()"
   ]
  },
  {
   "cell_type": "code",
   "execution_count": 45,
   "metadata": {},
   "outputs": [],
   "source": [
    "import numpy as np\n",
    "\n",
    "xy = np.array(iris)\n",
    "features = xy[:, 1:-1]\n",
    "target_value = xy[:, [-1]]"
   ]
  },
  {
   "cell_type": "code",
   "execution_count": 46,
   "metadata": {},
   "outputs": [],
   "source": [
    "def Distance(A, B) :\n",
    "    return np.sqrt(np.sum(np.power((A-B), 2)))"
   ]
  },
  {
   "cell_type": "code",
   "execution_count": 47,
   "metadata": {},
   "outputs": [
    {
     "name": "stdout",
     "output_type": "stream",
     "text": [
      "두 점 A(1, 2) 와 B(5, 7) 사이의 거리는 6.4 입니다.\n"
     ]
    }
   ],
   "source": [
    "A = np.array([1, 2])\n",
    "B = np.array([5, 7])\n",
    "\n",
    "distance = np.sqrt(np.sum(np.power((A-B), 2)))\n",
    "distance = round(distance, 2)\n",
    "print(f'두 점 A(1, 2) 와 B(5, 7) 사이의 거리는 {distance} 입니다.')"
   ]
  },
  {
   "cell_type": "code",
   "execution_count": 48,
   "metadata": {},
   "outputs": [],
   "source": [
    "def K_NN (Unknown, features, K) :\n",
    "    distance_result = np.zeros(150)\n",
    "    for i in range(150) :\n",
    "        distance_result[i] = Distance(Unknown, features[i])\n",
    "    index = distance_result.argsort()\n",
    "    target_result = []\n",
    "    result = [0, 0, 0]\n",
    "    for i in range(K) :\n",
    "        target_result.append(target_value[index[i]])\n",
    "        if target_result[i] == 'Iris-setosa' : \n",
    "            result[0] += 1\n",
    "        if target_result[i] == 'Iris-versicolor' :\n",
    "            result[1] += 1\n",
    "        else :\n",
    "            result[2] += 1\n",
    "    max_label = result.index(max(result))\n",
    "    species = {0 : 'setosa', 1 : 'versicolor', 2 : 'virginica'}\n",
    "    species_result = species[max_label]\n",
    "    return species_result"
   ]
  },
  {
   "cell_type": "code",
   "execution_count": 49,
   "metadata": {},
   "outputs": [],
   "source": [
    "ID_1 = np.array([2.7, 2.4, 1.65, 0.67])\n",
    "ID_2 = np.array([5.84, 5.48, 3, 2.16])\n",
    "ID_3 = np.array([3.97, 4.01, 1.7, 0.67])\n",
    "\n",
    "result_1 = K_NN(ID_1, features, 5)\n",
    "result_2 = K_NN(ID_2, features, 5)\n",
    "result_3 = K_NN(ID_3, features, 5)"
   ]
  },
  {
   "cell_type": "code",
   "execution_count": 50,
   "metadata": {},
   "outputs": [
    {
     "name": "stdout",
     "output_type": "stream",
     "text": [
      "setosa setosa setosa\n"
     ]
    }
   ],
   "source": [
    "print(result_1, result_2, result_3)"
   ]
  },
  {
   "cell_type": "code",
   "execution_count": null,
   "metadata": {},
   "outputs": [],
   "source": []
  }
 ],
 "metadata": {
  "kernelspec": {
   "display_name": "base",
   "language": "python",
   "name": "python3"
  },
  "language_info": {
   "codemirror_mode": {
    "name": "ipython",
    "version": 3
   },
   "file_extension": ".py",
   "mimetype": "text/x-python",
   "name": "python",
   "nbconvert_exporter": "python",
   "pygments_lexer": "ipython3",
   "version": "3.12.4"
  }
 },
 "nbformat": 4,
 "nbformat_minor": 2
}
