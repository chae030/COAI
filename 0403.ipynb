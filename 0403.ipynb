{
 "cells": [
  {
   "cell_type": "markdown",
   "metadata": {},
   "source": [
    "# 퍼셉트론\n",
    "\n",
    "- 퍼셉트론의 구조\n",
    "    입력층과 출력층으로 구성\n",
    "    입력층 : d+1개의 노드 (d는 특징 벡터의 차원)\n",
    "    특징 벡터 : x = (x1, x2, ... , xd)\n",
    "    계단 함수를 활성 함수로 사용\n",
    "--> 퍼셉트론은 특징 벡터를 1 또는 -1로 변환하는 장치 즉 이진 분류기\n",
    "\n",
    "y = wx + b (w : 가중치, b : bias) \n"
   ]
  }
 ],
 "metadata": {
  "kernelspec": {
   "display_name": "base",
   "language": "python",
   "name": "python3"
  },
  "language_info": {
   "name": "python",
   "version": "3.12.4"
  }
 },
 "nbformat": 4,
 "nbformat_minor": 2
}
